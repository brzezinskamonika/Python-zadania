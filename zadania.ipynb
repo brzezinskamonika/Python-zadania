{
 "cells": [
  {
   "cell_type": "raw",
   "metadata": {},
   "source": [
    "Monika Brzezinska, Data Science niestacjonarnie, grupa II\n",
    "Podstawy Python w analizie ekonomicznej\n",
    " \n",
    "Wylosowane zadania:\n",
    "Brze;Mon;[2, 3, 7, 8, 9, 13, 15, 17, 19, 20, 21, 24, 26]"
   ]
  },
  {
   "cell_type": "raw",
   "metadata": {},
   "source": [
    "Zad 2\n",
    "Korzystajac z pojecia funkcji utwórz skrypt, który bedzie mial mozliwosc zamiany temperatury pomiedzy skalami Celsjusza i Fahrenheita (w obie strony). "
   ]
  },
  {
   "cell_type": "code",
   "execution_count": null,
   "metadata": {},
   "outputs": [],
   "source": [
    "def zmienskale(value, scale):\n",
    " temp = float(value)\n",
    "\n",
    " if scale == 'C':\n",
    "  x=(temp*9/5)+32\n",
    "  print(\"Ta wartosc w skali Fahrenheita wynosi \" + str(x) + \" stopni\")\n",
    " elif scale == 'F':\n",
    "  z=(temp-32)*(5/9)\n",
    "  print(\"Ta wartosc w skali Celsjusza wynosi \" + str(z) + \" stopni\")\n",
    " else:\n",
    "  print(\"Nieprawidlowa wartosc lub nieobslugiwana skala, wprowadź skalę C lub F\")\n",
    "     \n",
    "\n",
    "#Przykład zastosowania - sprawdzamy ile to jest 90 stopni Farenhaita w skali Celsjusza:         \n",
    "zmienskale(90,'F')\n",
    "#A teraz ile to jest 0 stopni Celsjusza w skali Farenhaita: \n",
    "zmienskale(0,'C')\n",
    "#A teraz sprawdzamy co się dzieje, kiedy spróbujemy wprowadzić wartosc w skali Kelwina :)\n",
    "zmienskale(115,'K')"
   ]
  },
  {
   "cell_type": "raw",
   "metadata": {},
   "source": [
    "zad 3\n",
    "Utwórz skrypt do zamiany kilometrów na mile i na odwrót"
   ]
  },
  {
   "cell_type": "code",
   "execution_count": null,
   "metadata": {},
   "outputs": [],
   "source": [
    "def kmmile(value, unit):\n",
    " odleglosc = float(value)\n",
    "\n",
    " if unit == 'km':\n",
    "  x=odleglosc/1.609\n",
    "  print(\"Ta wartosc w milach wynosi \" + str(x) + \" mi\")\n",
    " elif unit == 'mi':\n",
    "  z=odleglosc*1.609\n",
    "  print(\"Ta wartosc w kilometrach wynosi \" + str(z) + \" km\")\n",
    " else:\n",
    "  print(\"Nieprawidlowa wartosc lub nieobslugiwana jednostka, wprowadź jednostke km lub mi\")\n",
    "     \n",
    "\n",
    "#Przykład zastosowania - sprawdzamy ile to jest 100 km w milach:         \n",
    "kmmile(100,'km')\n",
    "#A teraz ile jedna mila ma kilometrów \n",
    "kmmile(1,'mi')"
   ]
  },
  {
   "cell_type": "raw",
   "metadata": {},
   "source": [
    "zad 7\n",
    "Utwórz skrypt z interfejsem tekstowym, który pobierze od użytkownika zdanie i wyświetli w kolejnych wierszach litery tego zdania w odwróconej kolejności"
   ]
  },
  {
   "cell_type": "code",
   "execution_count": null,
   "metadata": {},
   "outputs": [],
   "source": [
    "x = input('Wpisz jakies zdanie: ')\n",
    "for i in range(len(x)):\n",
    "    print(x[-i-1])"
   ]
  },
  {
   "cell_type": "raw",
   "metadata": {},
   "source": [
    "zad 8 \n",
    "W klasie przeprowadzono sprawdzian, za który uczniowie mogli otrzymać maksymalnie 40 punktów. Skala ocen w szkole jest następująca: 0-39% - ndst, 40-49% - dop, 50-69% - dst, 70-84% - db, 85-99% - bdb, 100% - cel. Utwórz skrypt z interfejsem tekstowym, który na podstawie podanej liczby punktów ze sprawdzianu wyświetli ocenę jaka się należy (skorzystaj z konstrukcji if, elif, else)"
   ]
  },
  {
   "cell_type": "code",
   "execution_count": null,
   "metadata": {},
   "outputs": [],
   "source": [
    "x = int(input('wpisz ilosc uzyskanych punktow:'))\n",
    "procent = x/40*100 \n",
    "\n",
    "if 0 <= procent <= 39:\n",
    "    print('ndst')\n",
    "elif 40 <= procent <= 49:\n",
    "    print('dop')\n",
    "elif 50 <= procent <= 69:\n",
    "    print('dst')\n",
    "elif 70 <= procent <= 84:\n",
    "    print('db')\n",
    "elif 85 <= procent <= 99:\n",
    "    print('bdb')\n",
    "elif procent == 100:\n",
    "    print('cel')\n",
    "else:\n",
    "    print('wpisz poprawna liczbe punktow (0-40)')"
   ]
  },
  {
   "cell_type": "raw",
   "metadata": {},
   "source": [
    "zad 9\n",
    "Utwórz skrypt z interfejsem tekstowym, który wyliczy sumę n kolejnych liczb (użytkownik podaje pierwszą i ostatnią liczbę sumy). Uwaga - w zadaniu należy zbudować funkcję własną realizującą dane zadanie"
   ]
  },
  {
   "cell_type": "code",
   "execution_count": null,
   "metadata": {},
   "outputs": [],
   "source": [
    "def funkcja():\n",
    "    a = int(input('pierwsza liczba sumy:'))\n",
    "    b = int(input('ostatnia liczba sumy:'))\n",
    "    suma=[]\n",
    "    for n in range(a,b+1):\n",
    "        suma.append(n)\n",
    "    print(sum(suma))\n",
    "\n",
    "funkcja()"
   ]
  },
  {
   "cell_type": "raw",
   "metadata": {},
   "source": [
    "zad 13\n",
    "Utworzyć skrypt z interfejsem tekstowym obliczający symbol Newtona n po k. Utworzyć funkcję, która będzie wywoływać inną funkcję"
   ]
  },
  {
   "cell_type": "code",
   "execution_count": null,
   "metadata": {},
   "outputs": [],
   "source": [
    "def newton(n, k):\n",
    "    if k == 0 or k == n:\n",
    "        return 1\n",
    "    elif k > n:\n",
    "        return \"Nieprawidlowa wartosc (wartość k musi być mniejsza bądź równa wartości n)\"\n",
    "    else:\n",
    "        return newton(n-1,k-1) + newton(n-1,k)\n",
    "    \n",
    "#Przyklad uzycia:\n",
    "print(newton(23,4))"
   ]
  },
  {
   "cell_type": "raw",
   "metadata": {},
   "source": [
    "zad 15\n",
    "Utwórz skrypt, w którym zamieścisz 3 listy danych, zawierające po 14 temperatur dla 3 wybranych miast na kolejne 14 dni oraz utwórz wykres z tych danych. Twój wykres powinien mieć 3 linie z zaznaczonymi punktami danych za pomocą różnych znaczników, tytuł, opisane osie oraz legendę"
   ]
  },
  {
   "cell_type": "code",
   "execution_count": null,
   "metadata": {},
   "outputs": [],
   "source": [
    "from pylab import plot,show,legend,title,xlabel,ylabel\n",
    "\n",
    "LagunaHills=[20,20,18,18,19,18,17,18,19,20,22,22,23,19]\n",
    "Poznan=[5,5,9,10,5,4,5,4,5,8,8,9,10,8]\n",
    "Strasburg=[6,11,14,11,9,8,8,10,10,12,13,13,13,9]\n",
    "\n",
    "dni=range(1,15)\n",
    "\n",
    "plot(dni,LagunaHills,marker=\"o\")\n",
    "plot(dni,Poznan,marker=\"v\")\n",
    "plot(dni,Strasburg,marker=\"x\")\n",
    "ylabel(\"Temperatura\")\n",
    "xlabel(\"Dni\")\n",
    "title(\"Różnica temperatur w trzech miastach w ciągu czternastu dni\")\n",
    "legend(['Laguna Hills','Poznań','Strasburg'])\n",
    "show()"
   ]
  },
  {
   "cell_type": "raw",
   "metadata": {},
   "source": [
    "zad 17\n",
    "Utwórz funkcję, która będzie generować listy danych do wykreślenia w oparciu o:\n",
    "a) fukcję liniową ax+b\n",
    "b) funkcję kwadratową ax^2+bx+c\n",
    "c) funkcję odwrotnie-potęgową a/x^n\n",
    "Każda z fukcji powinna przyjmować parametry równania, natomiast zwracać powinna dwie listy - x i y, które następnie będzie można wykreślić na wykresie"
   ]
  },
  {
   "cell_type": "code",
   "execution_count": null,
   "metadata": {},
   "outputs": [],
   "source": [
    "from matplotlib import pyplot as plt\n",
    "\n",
    "#a) fukcję liniową ax+b\n",
    "def liniowa(a, b):\n",
    "    xaxis = []\n",
    "    yaxis = []\n",
    "    for x in range(0, 100):\n",
    "        xaxis.append(x)\n",
    "        yaxis.append(a*x + b)\n",
    "        \n",
    "    return xaxis, yaxis\n",
    "\n",
    "x, y = liniowa(1, 2)\n",
    "plt.plot(x, y)"
   ]
  },
  {
   "cell_type": "code",
   "execution_count": null,
   "metadata": {},
   "outputs": [],
   "source": [
    "from matplotlib import pyplot as plt\n",
    "\n",
    "#b) funkcję kwadratową ax^2+bx+c\n",
    "def kwadratowa(a, b, c):\n",
    "    xaxis = []\n",
    "    yaxis = []\n",
    "    for x in range(0, 100):\n",
    "        xaxis.append(x)\n",
    "        yaxis.append(a*(x**2) + b*x + c)\n",
    "        \n",
    "    return xaxis, yaxis\n",
    "\n",
    "x, y = kwadratowa(1, 2, 3)\n",
    "plt.plot(x, y)"
   ]
  },
  {
   "cell_type": "code",
   "execution_count": null,
   "metadata": {},
   "outputs": [],
   "source": [
    "from matplotlib import pyplot as plt\n",
    "\n",
    "#c) funkcję odwrotnie-potęgową a/x^n\n",
    "def odwrotniepotegowa(a, n):\n",
    "    xaxis = []\n",
    "    yaxis = []\n",
    "    for x in range(1, 100):\n",
    "        xaxis.append(x)\n",
    "        yaxis.append(a/(x**n))\n",
    "        \n",
    "    return xaxis, yaxis\n",
    "\n",
    "x, y = odwrotniepotegowa(1, 2)\n",
    "plt.plot(x, y)"
   ]
  },
  {
   "cell_type": "raw",
   "metadata": {},
   "source": [
    "zad 19\n",
    "Korzystając ze słownika, utwórz funkcję, która będzie zwracać liczbę dni danego miesiąca w roku"
   ]
  },
  {
   "cell_type": "code",
   "execution_count": null,
   "metadata": {},
   "outputs": [],
   "source": [
    "def iloscdni(x):\n",
    "    miesiace = {\n",
    "        'styczeń': '31',\n",
    "        'luty': '29',\n",
    "        'marzec': '31',\n",
    "        'kwiecień': '30',\n",
    "        'maj': '31',\n",
    "        'czerwiec': '30',\n",
    "        'lipiec': '31',\n",
    "        'sierpień': '31',\n",
    "        'wrzesień': '30',\n",
    "        'październik': '31',\n",
    "        'listopad': '30',\n",
    "        'grudzień': '31'\n",
    "    }\n",
    "    if x not in miesiace.keys():\n",
    "     print('Nieprawidłowa nazwa miesiąca')\n",
    "    else:\n",
    "     print(miesiace[x])\n",
    "\n",
    "\n",
    "iloscdni('sierpień')"
   ]
  },
  {
   "cell_type": "raw",
   "metadata": {},
   "source": [
    "zad 20\n",
    "Korzystając ze słownika, utwórz funkcję, która będzie zwracać tłumaczenia nazw miesięcy z języka polskiego na angielski"
   ]
  },
  {
   "cell_type": "code",
   "execution_count": null,
   "metadata": {},
   "outputs": [],
   "source": [
    "def angmiesiace(x):\n",
    "    miesiace = {\n",
    "        'styczeń': 'January',\n",
    "        'luty': 'February',\n",
    "        'marzec': 'March', \n",
    "        'kwiecień': 'April',\n",
    "        'maj': 'May', \n",
    "        'czerwiec': 'June',\n",
    "        'lipiec': 'July',\n",
    "        'sierpień': 'August',\n",
    "        'wrzesień': 'September',\n",
    "        'październik': 'October',\n",
    "        'listopad': 'November',\n",
    "        'grudzień': 'December'\n",
    "    }\n",
    "    if x not in miesiace.keys():\n",
    "     print('Nieprawidłowa nazwa miesiąca')\n",
    "    else:\n",
    "     print(miesiace[x])\n",
    "\n",
    "\n",
    "angmiesiace('sierpień')"
   ]
  },
  {
   "cell_type": "raw",
   "metadata": {},
   "source": [
    "zad 21\n",
    "Utwórz fukcję, która jako argument będzie przyjmować listę liczb zmiennoprzecinkowych, a jej wynikiem będzie średnia arytmetyczna. Porównaj jej wynik z wynikiem fukcji mean z pakietu numpy"
   ]
  },
  {
   "cell_type": "code",
   "execution_count": null,
   "metadata": {},
   "outputs": [],
   "source": [
    "import numpy as np\n",
    "\n",
    "def srednia(x):\n",
    "    suma=sum(x)\n",
    "    ilosc=len(x)\n",
    "    return suma/ilosc\n",
    "    \n",
    "lista=[5.5,5.8,14.12,28.3,25.5,3.9,1.1]\n",
    "print(np.mean(lista))\n",
    "print(srednia(lista))"
   ]
  },
  {
   "cell_type": "raw",
   "metadata": {},
   "source": [
    "zad 24\n",
    "Utwórz fukcję, która jako argument będzie przyjmować listę liczb zmiennoprzecinkowych, a jej wynikiem będzie odchylenie standardowe średniej"
   ]
  },
  {
   "cell_type": "code",
   "execution_count": null,
   "metadata": {},
   "outputs": [],
   "source": [
    "import math\n",
    "import numpy as np\n",
    "\n",
    "def odchylenie(x):\n",
    "    n=len(x)\n",
    "    srednia=np.mean(x)\n",
    "    standard=[]\n",
    "    for i in range(n):\n",
    "        standard.append(float((x[i]-srednia)**2))\n",
    "    print('odchylenie standardowe wynosi ' + str(math.sqrt(sum(standard)/n)))\n",
    "        \n",
    "    \n",
    "lista=[5.5,5.8,14.12,28.3,25.5,3.9,1.1]\n",
    "\n",
    "odchylenie(lista)\n",
    "#sprawdzenie:\n",
    "print(np.std(lista))"
   ]
  },
  {
   "cell_type": "raw",
   "metadata": {},
   "source": [
    "zad 26\n",
    "Utwórz funkcję, która jako argument będzie przyjmować listę liczb zmiennoprzecinkowych, a jej wynikiem będzie trzeci moment centralny (skośność)"
   ]
  },
  {
   "cell_type": "code",
   "execution_count": null,
   "metadata": {},
   "outputs": [],
   "source": [
    "import numpy as np\n",
    "\n",
    "def skosnosc(x):\n",
    "    n=len(x)\n",
    "    srednia=np.mean(x)\n",
    "    skos=[]\n",
    "    for i in range(n):\n",
    "        skos.append(float((x[i]-srednia)**3))\n",
    "    print('skosnosc wynosi ' + str(sum(skos)/n))\n",
    "        \n",
    "    \n",
    "lista=[5.5,5.8,14.12,28.3,25.5,3.9,1.1]\n",
    "\n",
    "skosnosc(lista)"
   ]
  }
 ],
 "metadata": {
  "kernelspec": {
   "display_name": "Python 3",
   "language": "python",
   "name": "python3"
  },
  "language_info": {
   "codemirror_mode": {
    "name": "ipython",
    "version": 3
   },
   "file_extension": ".py",
   "mimetype": "text/x-python",
   "name": "python",
   "nbconvert_exporter": "python",
   "pygments_lexer": "ipython3",
   "version": "3.7.4"
  },
  "widgets": {
   "application/vnd.jupyter.widget-state+json": {
    "state": {},
    "version_major": 2,
    "version_minor": 0
   }
  }
 },
 "nbformat": 4,
 "nbformat_minor": 2
}
